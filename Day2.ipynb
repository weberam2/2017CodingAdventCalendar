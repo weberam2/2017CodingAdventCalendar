{
 "cells": [
  {
   "cell_type": "code",
   "execution_count": 19,
   "metadata": {},
   "outputs": [],
   "source": [
    "import numpy as np\n",
    "import csv\n",
    "import os"
   ]
  },
  {
   "cell_type": "code",
   "execution_count": 11,
   "metadata": {},
   "outputs": [
    {
     "name": "stdout",
     "output_type": "stream",
     "text": [
      "Day2input.txt\n",
      ".git\n",
      "Day2.ipynb\n",
      "README.md\n",
      "Day1.txt\n",
      ".ipynb_checkpoints\n",
      "Day2.txt\n",
      "Day1.ipynb\n"
     ]
    }
   ],
   "source": [
    "os.chdir('/data/ubcitar/aweber/PythonNotebook/2017CodingAdventCalendar/')\n",
    "for x in os.listdir('.'):\n",
    "    print(x)"
   ]
  },
  {
   "cell_type": "code",
   "execution_count": 21,
   "metadata": {},
   "outputs": [],
   "source": [
    "my_data = list(csv.reader(open('Day2input.txt', 'rt'), delimiter='\\t'))"
   ]
  },
  {
   "cell_type": "code",
   "execution_count": 38,
   "metadata": {},
   "outputs": [],
   "source": [
    "myarray = np.asarray(my_data)"
   ]
  },
  {
   "cell_type": "code",
   "execution_count": 41,
   "metadata": {},
   "outputs": [
    {
     "data": {
      "text/plain": [
       "'2502'"
      ]
     },
     "execution_count": 41,
     "metadata": {},
     "output_type": "execute_result"
    }
   ],
   "source": [
    "myarray[0][15]"
   ]
  },
  {
   "cell_type": "code",
   "execution_count": 42,
   "metadata": {},
   "outputs": [
    {
     "data": {
      "text/plain": [
       "16"
      ]
     },
     "execution_count": 42,
     "metadata": {},
     "output_type": "execute_result"
    }
   ],
   "source": [
    "shape = np.shape(myarray)\n",
    "shape[1]"
   ]
  },
  {
   "cell_type": "code",
   "execution_count": 51,
   "metadata": {},
   "outputs": [],
   "source": [
    "myarray = myarray.astype(int)"
   ]
  },
  {
   "cell_type": "code",
   "execution_count": 52,
   "metadata": {},
   "outputs": [
    {
     "data": {
      "text/plain": [
       "2593"
      ]
     },
     "execution_count": 52,
     "metadata": {},
     "output_type": "execute_result"
    }
   ],
   "source": [
    "max(myarray[0])"
   ]
  },
  {
   "cell_type": "code",
   "execution_count": 58,
   "metadata": {},
   "outputs": [
    {
     "name": "stdout",
     "output_type": "stream",
     "text": [
      "2593 125 2468\n",
      "6188 149 6039\n",
      "512 102 410\n",
      "2898 200 2698\n",
      "3999 170 3829\n",
      "313 69 244\n",
      "1288 45 1243\n",
      "3227 93 3134\n",
      "494 40 454\n",
      "2615 81 2534\n",
      "3003 214 2789\n",
      "3456 216 3240\n",
      "2798 157 2641\n",
      "3786 99 3687\n",
      "7219 178 7041\n",
      "2331 112 2219\n"
     ]
    }
   ],
   "source": [
    "newarray = np.zeros(shape=(16,3))\n",
    "for i in range(shape[1]):\n",
    "    maxtmp = max(myarray[i])\n",
    "    mintmp = min(myarray[i])\n",
    "    diffmaxmin = maxtmp-mintmp\n",
    "    newarray[i]=[maxtmp,mintmp,diffmaxmin]\n",
    "    print(maxtmp,mintmp,diffmaxmin)"
   ]
  },
  {
   "cell_type": "code",
   "execution_count": 59,
   "metadata": {},
   "outputs": [
    {
     "data": {
      "text/plain": [
       "2468.0"
      ]
     },
     "execution_count": 59,
     "metadata": {},
     "output_type": "execute_result"
    }
   ],
   "source": [
    "newarray[0][2]"
   ]
  },
  {
   "cell_type": "code",
   "execution_count": 60,
   "metadata": {},
   "outputs": [
    {
     "data": {
      "text/plain": [
       "array([ 46720.,   2050.,  44670.])"
      ]
     },
     "execution_count": 60,
     "metadata": {},
     "output_type": "execute_result"
    }
   ],
   "source": [
    "np.sum(newarray,axis=0)"
   ]
  },
  {
   "cell_type": "code",
   "execution_count": 61,
   "metadata": {},
   "outputs": [
    {
     "data": {
      "text/plain": [
       "array([ 626, 2424, 2593,  139, 2136,  163, 1689,  367, 2235,  125, 2365,\n",
       "        924,  135, 2583, 1425, 2502])"
      ]
     },
     "execution_count": 61,
     "metadata": {},
     "output_type": "execute_result"
    }
   ],
   "source": [
    "myarray[0]"
   ]
  },
  {
   "cell_type": "code",
   "execution_count": 69,
   "metadata": {},
   "outputs": [
    {
     "data": {
      "text/plain": [
       "[2593,\n",
       " 2583,\n",
       " 2502,\n",
       " 2424,\n",
       " 2365,\n",
       " 2235,\n",
       " 2136,\n",
       " 1689,\n",
       " 1425,\n",
       " 924,\n",
       " 626,\n",
       " 367,\n",
       " 163,\n",
       " 139,\n",
       " 135,\n",
       " 125]"
      ]
     },
     "execution_count": 69,
     "metadata": {},
     "output_type": "execute_result"
    }
   ],
   "source": [
    "sorted(myarray[0], reverse=True)"
   ]
  },
  {
   "cell_type": "code",
   "execution_count": 137,
   "metadata": {},
   "outputs": [
    {
     "data": {
      "text/plain": [
       "(16, 16)"
      ]
     },
     "execution_count": 137,
     "metadata": {},
     "output_type": "execute_result"
    }
   ],
   "source": [
    "shape"
   ]
  },
  {
   "cell_type": "code",
   "execution_count": 155,
   "metadata": {},
   "outputs": [
    {
     "name": "stdout",
     "output_type": "stream",
     "text": [
      "[[2502  139   18]\n",
      " [5430  181   30]\n",
      " [ 350  175    2]\n",
      " [2772  231   12]\n",
      " [3759  179   21]\n",
      " [ 208  104    2]\n",
      " [1150   50   23]\n",
      " [2813   97   29]\n",
      " [ 444   74    6]\n",
      " [2346  102   23]\n",
      " [2782  214   13]\n",
      " [3456  216   16]\n",
      " [2678  206   13]\n",
      " [3675  105   35]\n",
      " [6670  230   29]\n",
      " [2275  175   13]]\n"
     ]
    },
    {
     "data": {
      "text/plain": [
       "array([ 43310.,   2478.,    285.])"
      ]
     },
     "execution_count": 155,
     "metadata": {},
     "output_type": "execute_result"
    }
   ],
   "source": [
    "newarray = np.zeros(shape=(shape[0],3))\n",
    "for i in range(shape[0]):\n",
    "    \n",
    "    sort = sorted(myarray[i], reverse=True)\n",
    "    for j in range(shape[1]):\n",
    "        tmp = sort[j]%sort[(j+1):16]\n",
    "        if len(tmp[tmp==0]) == 1:\n",
    "            indx = np.where(tmp == 0)\n",
    "            indx = int(indx[0]) +j+1\n",
    "            newarray[i]=[sort[j],sort[indx],int(sort[j]/sort[indx])]\n",
    "            break\n",
    "        \n",
    "print(newarray.astype(int))\n",
    "np.sum(newarray,axis=0)"
   ]
  },
  {
   "cell_type": "code",
   "execution_count": null,
   "metadata": {
    "collapsed": true
   },
   "outputs": [],
   "source": []
  }
 ],
 "metadata": {
  "kernelspec": {
   "display_name": "Python 3",
   "language": "python",
   "name": "python3"
  },
  "language_info": {
   "codemirror_mode": {
    "name": "ipython",
    "version": 3
   },
   "file_extension": ".py",
   "mimetype": "text/x-python",
   "name": "python",
   "nbconvert_exporter": "python",
   "pygments_lexer": "ipython3",
   "version": "3.6.2"
  }
 },
 "nbformat": 4,
 "nbformat_minor": 2
}
